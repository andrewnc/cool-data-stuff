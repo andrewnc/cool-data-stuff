{
 "cells": [
  {
   "cell_type": "code",
   "execution_count": 72,
   "metadata": {
    "collapsed": false
   },
   "outputs": [
    {
     "name": "stdout",
     "output_type": "stream",
     "text": [
      "(5.532674878048781, 6.0829126086956515, 4.95134354117647, 5.1654867176470605, 3.988195385416669)\n",
      "F_onewayResult(statistic=55.130048090606046, pvalue=2.7932281333097121e-13)\n",
      "(-0.40119425066956954, 6.3207294810961452, -0.1105629563465442, 0.023951354729262842, 0.17703136081410176)\n"
     ]
    }
   ],
   "source": [
    "import csv\n",
    "import matplotlib\n",
    "import numpy as np\n",
    "import sklearn\n",
    "from scipy import stats\n",
    "\n",
    "\n",
    "\n",
    "f = open('NBA.csv')\n",
    "csv_f = csv.reader(f)\n",
    "nba_li = []\n",
    "position_dic = {\"SF\":1, \"C\":2, \"PF\": 3, \"PG\": 4, \"SG\": 5}\n",
    "data = []\n",
    "targets = []\n",
    "sum_SF = 0\n",
    "count_sf = 0\n",
    "sum_C = 0\n",
    "count_c = 0\n",
    "sum_PF = 0\n",
    "count_pf = 0\n",
    "sum_PG = 0\n",
    "count_pg = 0\n",
    "sum_SG = 0\n",
    "count_sg = 0\n",
    "for row in csv_f:\n",
    "    if row[2] == \"SF\":\n",
    "        sum_SF += float(row[4])\n",
    "        count_sf += 1\n",
    "    if row[2] == \"C\":\n",
    "        sum_C += float(row[4])\n",
    "        count_c += 1\n",
    "    if row[2] == \"PF\":\n",
    "        sum_PF += float(row[4])\n",
    "        count_pf += 1\n",
    "    if row[2] == \"PG\":\n",
    "        sum_PG += float(row[4])\n",
    "        count_pg += 1\n",
    "    if row[2] == \"SG\":\n",
    "        sum_SG += float(row[4])\n",
    "        count_sg += 1\n",
    "    nba_li.append({\"position\": row[2], 'salary': row[4]})\n",
    "\n",
    "print (sum_SF/count_sf, sum_C/count_c, sum_PF/count_pf, sum_PG/count_pg, sum_SG/count_sg)\n",
    "\n",
    "nba_li.pop(0)\n",
    "\n",
    "for element in nba_li:\n",
    "    element['position'] = position_dic[str(element['position'])]\n",
    "    data.append(float(element['salary']))\n",
    "    targets.append(element['position'])\n",
    "\n",
    "slope, intercept, r_value, p_value, std_err = stats.linregress(targets,data)\n",
    "print stats.f_oneway(data, targets)\n",
    "print (slope, intercept, r_value, p_value, std_err)"
   ]
  },
  {
   "cell_type": "code",
   "execution_count": null,
   "metadata": {
    "collapsed": true
   },
   "outputs": [],
   "source": []
  }
 ],
 "metadata": {
  "kernelspec": {
   "display_name": "Python 2",
   "language": "python",
   "name": "python2"
  },
  "language_info": {
   "codemirror_mode": {
    "name": "ipython",
    "version": 2
   },
   "file_extension": ".py",
   "mimetype": "text/x-python",
   "name": "python",
   "nbconvert_exporter": "python",
   "pygments_lexer": "ipython2",
   "version": "2.7.10"
  }
 },
 "nbformat": 4,
 "nbformat_minor": 0
}
