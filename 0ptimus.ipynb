{
 "cells": [
  {
   "cell_type": "code",
   "execution_count": 21,
   "metadata": {
    "collapsed": false
   },
   "outputs": [
    {
     "data": {
      "text/plain": [
     " "
      ]
     },
     "execution_count": 21,
     "metadata": {},
     "output_type": "execute_result"
    }
   ],
   "source": [
    "import csv\n",
    "\n",
    "from sklearn import datasets, metrics\n",
    "from sklearn.naive_bayes import GaussianNB\n",
    "from sklearn import linear_model\n",
    "from sklearn import ensemble\n",
    "\n",
    "import numpy as np\n",
    "\n",
    "\n",
    "data = []\n",
    "personal = {}\n",
    "\n",
    "with open('voterfileNym.csv', newline='') as csvfile:\n",
    "    data_csv = csv.reader(csvfile)\n",
    "    for row in data_csv:\n",
    "        data.append(row)\n",
    "\n",
    "for i in range (0, len(data)):\n",
    "    personal[data[i][0]] = [x for x in data[i]]\n",
    "    personal[data[i][0]].pop(0)\n",
    "\n",
    "numlist = []\n",
    "targets = []\n",
    "\n",
    "for key in personal.keys():\n",
    "    numlist.append([personal[key][x] for x in range(0, len(personal[key])-1)])\n",
    "    summation = 0\n",
    "    for i in range(10, 25):\n",
    "        summation += int(personal[key][i])\n",
    "    average = summation/14\n",
    "    targets.append(average)\n",
    "\n",
    "npNumlist = np.array(numlist).astype(np.float)\n",
    "npTargets = np.array(targets).astype(np.float)\n",
    "\n",
    "\n",
    "model = linear_model.LogisticRegression()\n",
    "model.fit(npNumlist, npTargets) #fit training data          \n",
    "\n",
    "expected = npTargets\n",
    "predicted = model.predict_proba(npNumlist)\n",
    "\n",
    "counter = 0\n",
    "for key in personal.keys():\n",
    "    personal[key].insert(0,key)\n",
    "    personal[key].append(\"%.3f\" % predicted[counter][1])\n",
    "    if(predicted[counter][1] >= 0.5):\n",
    "        personal[key].append('1')\n",
    "    else:\n",
    "        personal[key].append('0')     \n",
    "    counter += 1"
   ]
  },
  {
   "cell_type": "code",
   "execution_count": 22,
   "metadata": {
    "collapsed": false
   },
   "outputs": [],
   "source": [
    "#This is where the information is re-written to a new csv.\n",
    "\n",
    "writer = csv.writer(open('new.csv', 'w'))\n",
    "for key, value in personal.items():\n",
    "    writer.writerow([x for x in value])"
   ]
  },
  {
   "cell_type": "code",
   "execution_count": null,
   "metadata": {
    "collapsed": true
   },
   "outputs": [],
   "source": []
  }
 ],
 "metadata": {
  "kernelspec": {
   "display_name": "Python 3",
   "language": "python",
   "name": "python3"
  },
  "language_info": {
   "codemirror_mode": {
    "name": "ipython",
    "version": 3
   },
   "file_extension": ".py",
   "mimetype": "text/x-python",
   "name": "python",
   "nbconvert_exporter": "python",
   "pygments_lexer": "ipython3",
   "version": "3.4.3"
  }
 },
 "nbformat": 4,
 "nbformat_minor": 0
}
